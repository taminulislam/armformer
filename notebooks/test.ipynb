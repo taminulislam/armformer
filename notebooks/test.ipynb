{
  "cells": [
    {
      "cell_type": "raw",
      "metadata": {
        "vscode": {
          "languageId": "raw"
        }
      },
      "source": [
        "!python ../tools/test.py ../local_configs/armformer_config.py ../work_dirs/best_mIoU_iter_160000.pth --out ../results/test_images --work-dir ../work_dirs\n"
      ]
    },
    {
      "cell_type": "raw",
      "metadata": {
        "vscode": {
          "languageId": "raw"
        }
      },
      "source": [
        "!python ../tools/analysis_tools/benchmark.py ../local_configs/armformer_config.py ../work_dirs/best_mIoU_iter_160000.pth\n"
      ]
    },
    {
      "cell_type": "raw",
      "metadata": {
        "vscode": {
          "languageId": "raw"
        }
      },
      "source": [
        "!python ../tools/analysis_tools/get_flops.py ../local_configs/armformer_config.py --shape 512 512\n"
      ]
    }
  ],
  "metadata": {
    "language_info": {
      "name": "python"
    }
  },
  "nbformat": 4,
  "nbformat_minor": 2
}
